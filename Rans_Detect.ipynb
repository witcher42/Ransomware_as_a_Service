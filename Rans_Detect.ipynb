{
  "nbformat": 4,
  "nbformat_minor": 0,
  "metadata": {
    "colab": {
      "name": "Rans_Detect.ipynb",
      "provenance": [],
      "collapsed_sections": []
    },
    "kernelspec": {
      "name": "python3",
      "display_name": "Python 3"
    }
  },
  "cells": [
    {
      "cell_type": "code",
      "metadata": {
        "id": "2LaNbaLLJ1HQ",
        "colab_type": "code",
        "colab": {}
      },
      "source": [
        "import pandas as ps\n",
        "import numpy as np\n",
        "import pefile\n",
        "import os\n",
        "import array\n",
        "import math\n",
        "import sys\n",
        "import pickle\n",
        "from sklearn import cross_validation, tree, linear_model\n",
        "from sklearn.feature_selection import SelectFromModel\n",
        "from sklearn.metriccs import confusion_matrix"
      ],
      "execution_count": null,
      "outputs": []
    },
    {
      "cell_type": "code",
      "metadata": {
        "id": "USKhJvqTM_eq",
        "colab_type": "code",
        "colab": {}
      },
      "source": [
        "# 랜섬웨어에 의해 무작위로 변조된 파일은 높은 엔트로피를 가집니다\n",
        "def get_entropy(data):\n",
        "    entropy = 0\n",
        "    occurences = array.array('L', [0] * 256)\n",
        "    for x in data:\n",
        "        occurences[x if isinstance(x, int) else ord(x)] += 1\n",
        "    for x in occurences:\n",
        "        if x:\n",
        "            p_x = float(x) / len(data)\n",
        "            entropy -= p_x * math.log(p_x, 2)\n",
        "    return entropy"
      ],
      "execution_count": null,
      "outputs": []
    },
    {
      "cell_type": "code",
      "metadata": {
        "id": "5tLDOH0IOdVC",
        "colab_type": "code",
        "colab": {}
      },
      "source": [
        "makeLIST = []\n",
        "makeLIST['entropy'] = get_entropy(inputFILE)"
      ],
      "execution_count": null,
      "outputs": []
    },
    {
      "cell_type": "code",
      "metadata": {
        "id": "ax1k2zDTKwIn",
        "colab_type": "code",
        "colab": {}
      },
      "source": [
        "# 모델 생성\n",
        "data = makeLIST\n",
        "X = data['Length']].values\n",
        "Y = data['Score'].values\n",
        "X_train, X_test, Y_train, Y_test = cross_validation.train_test_split(X, Y ,test_size=0.2)\n",
        "RF = \"RandomForest\": RandomForestClassifier(n_estimators=50)\n",
        "score = {}\n",
        "RF.fit(X_train, Y_train)\n",
        "score = RF.score(X_test, Y_test)\n",
        "score[RF] = score\n",
        "pred = RF.predict(X_test)\n",
        "confusion_matrix(Y_test, pred)"
      ],
      "execution_count": null,
      "outputs": []
    }
  ]
}